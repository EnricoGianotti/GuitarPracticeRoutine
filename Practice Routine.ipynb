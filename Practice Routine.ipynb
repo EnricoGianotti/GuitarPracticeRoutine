{
 "cells": [
  {
   "cell_type": "code",
   "execution_count": 2,
   "metadata": {},
   "outputs": [
    {
     "name": "stdout",
     "output_type": "stream",
     "text": [
      "2021-09-08 22:24:11.575007\n"
     ]
    }
   ],
   "source": [
    "import os, random, datetime, pandas\n",
    "print(pandas.Timestamp.now())\n",
    "\n",
    "from IPython.display import Javascript\n",
    "def window_open(url):\n",
    "    display(Javascript('window.open(\"{url}\");'.format(url=url)))"
   ]
  },
  {
   "cell_type": "markdown",
   "metadata": {},
   "source": [
    "### Daily Practice Routine (30 min.):\n",
    "1. **Warm-up** (5 min): based on the spider, with a random pattern\n",
    "2. **Applied theory** (5 min.): training chords, scales and arpeggios on a random mode/scale\n",
    "3. **Technique** (5 min.): train on a random exercise, on a random technique\n",
    "4. **Repertoire** (7 min.): play a random song in your repertoire\n",
    "5. **Improvisation** (7 min.): improvise on a random backing track\n"
   ]
  },
  {
   "cell_type": "code",
   "execution_count": 4,
   "metadata": {},
   "outputs": [
    {
     "name": "stdout",
     "output_type": "stream",
     "text": [
      "Warm-up (5 min.)\n"
     ]
    },
    {
     "data": {
      "application/javascript": [
       "window.open(\"http://bit.ly/3oAZLvz\");"
      ],
      "text/plain": [
       "<IPython.core.display.Javascript object>"
      ]
     },
     "metadata": {},
     "output_type": "display_data"
    },
    {
     "name": "stdout",
     "output_type": "stream",
     "text": [
      "Metronome: http://bit.ly/3oAZLvz\n",
      "Fingering: [4, 3, 1, 2]\n",
      "Initial fret Horizontal Ditones: [6]\n",
      "Initial fret Vertical Ditones: [6]\n",
      "Initial fret Spider: [2]\n",
      "Accents each [5] notes\n"
     ]
    }
   ],
   "source": [
    "print(\"Warm-up (5 min.)\")\n",
    "window_open(\"http://bit.ly/3oAZLvz\")\n",
    "print(\"Metronome: http://bit.ly/3oAZLvz\")\n",
    "\n",
    "sequence = random.sample(range(1, 5), 4)\n",
    "init_HorDitones = random.sample(range(1, 12), 1)\n",
    "init_VerDitones = random.sample(range(1, 9), 1)\n",
    "init_Spider = random.sample(range(1, 7), 1)\n",
    "\n",
    "set_accents = [2,3,4,5,6]\n",
    "accents = random.sample(set_accents,1)\n",
    "\n",
    "print(\"Fingering:\", sequence)\n",
    "print(\"Initial fret Horizontal Ditones:\", init_HorDitones)\n",
    "print(\"Initial fret Vertical Ditones:\", init_VerDitones)\n",
    "print(\"Initial fret Spider:\", init_Spider)\n",
    "print(\"Accents each\", accents, \"notes\")"
   ]
  },
  {
   "cell_type": "code",
   "execution_count": 8,
   "metadata": {},
   "outputs": [
    {
     "name": "stdout",
     "output_type": "stream",
     "text": [
      "Applied theory: chords, scales and arpeggios (5 min.)\n",
      "G Ionian #5\n",
      "   1 Chords\n",
      "   2 Scales, sequence ['1-3-2']\n",
      "   3 Arpeggios, sequence ['1-2-3-4']\n"
     ]
    }
   ],
   "source": [
    "print(\"Applied theory: chords, scales and arpeggios (5 min.)\")\n",
    "set_note = [\"A\", \"Bb\", \"B\", \"C\", \"Db\", \"D\", \"Eb\", \"E\", \"F\", \"Gb\", \"G\", \"Ab\" ]\n",
    "set_mode = [\"Ionian\", \"Dorian\", \"Phrygian\", \"Lydian\", \"Mixolydian\", \"Aeolian\", \"Locrian\",\n",
    "            \"Harmonic Minor\", \"Locrian 6\", \"Ionian #5\", \"Dorian #4\", \"Phrygian dominant\", \"Lydian #2\", \"Superlocrian bb7\",\n",
    "            \"Melodic Minor\", \"Phrygian 6\", \"Lydian augmented\", \"Lydian dominant\", \"Mixolydian b6\", \"Aeolian b5\", \"Superlocrian\",\n",
    "            \"Augmented\", \"Hexatonic\", \"Tone-Semitone Scale\", \"Semitone-tone Scale\"]\n",
    "str1 = \" \"\n",
    "comb = [str1.join(random.sample(set_note,1)),str1.join(random.sample(set_mode,1))]\n",
    "\n",
    "print(str1.join(comb))\n",
    "\n",
    "set_pattern = [\"1\",\"1-2\",\"2-1\",\"1-2-3\",\"1-3-2\",\"1-2-3-4\",\"1-4-3-2\"]\n",
    "pattern = random.sample(set_pattern,1)\n",
    "\n",
    "cont = [\"Chords\",\"Scales, sequence \" + str(random.sample(set_pattern,1)),\"Arpeggios, sequence \" + str(random.sample(set_pattern,1))]\n",
    "\n",
    "for number, letter in enumerate(cont):\n",
    "    print(\"  \",number+1, letter)\n"
   ]
  },
  {
   "cell_type": "code",
   "execution_count": 10,
   "metadata": {},
   "outputs": [
    {
     "name": "stdout",
     "output_type": "stream",
     "text": [
      "Tecnica (5 min.)\n",
      "Technique trained today: Finger Picking\n",
      "No file in folder\n"
     ]
    }
   ],
   "source": [
    "print(\"Tecnica (5 min.)\")\n",
    "\n",
    "set_techniq = [\"Alternate Picking\",\"Economy Picking\",\"Hybrid Picking\",\"Sweep Picking\",\"Finger Picking\",\"String Skipping\",\"Legato\",\"Tapping\",\"Vibrato\",\"Bending\",\"Whammy Bar\"]\n",
    "#set_techniq = [\"Bending\"]\n",
    "techniq = random.sample(set_techniq,1)\n",
    "print(\"Technique trained today:\", techniq[0])\n",
    "\n",
    "cartella = \"C:\\\\Users\\\\Enrico\\\\Music\\\\Gruppi\\\\Me Medesimo\\\\PRACTICE ROUTINE\\\\C. Tecnica\\\\\" + techniq[0]\n",
    "try:\n",
    "    esercizio = random.choice(os.listdir(cartella))\n",
    "    os.startfile(cartella + \"\\\\\" + esercizio)\n",
    "except IndexError as ie:\n",
    "    print(\"No file in folder\")"
   ]
  },
  {
   "cell_type": "code",
   "execution_count": 13,
   "metadata": {},
   "outputs": [
    {
     "name": "stdout",
     "output_type": "stream",
     "text": [
      "Repertoire (7 min.)\n",
      "Today's song: Super 70s\n"
     ]
    }
   ],
   "source": [
    "print(\"Repertoire (7 min.)\")\n",
    "\"\"\"\n",
    "SATCH: Always with me, always with you + Cryin' + Satch Boogie\n",
    "ANDY TIMMONS: Electric gypsy + Cry for You + Super 70s\n",
    "NEIL ZAZA: I'm alright\n",
    "STEVE VAI: Juice\n",
    "JOE PETRUCCI: Glasgow kiss\n",
    "JEFF BECK: Cause we've ended as lovers\n",
    "VINNIE MOORE: Meltdown\n",
    "TONY DE GRUTTOLA: No true\n",
    "ENRICO GIANOTTI: Dusty Hills???\n",
    "\n",
    "### To be added\n",
    "Super Colossal (Joe Satriani)\n",
    "Tender Surrender (Steve Vai)\n",
    "Erotic Cakes/Fives (Guthrie Govan)\n",
    "Little Wing/Foxey Lady/Voodoo Child (Jimy Hendrix)\n",
    "Chromazone (Mike Stern)\n",
    "\"\"\"\n",
    "\n",
    "folder = \"C:\\\\Users\\\\Enrico\\\\Music\\\\Gruppi\\\\Me Medesimo\\\\PRACTICE ROUTINE\\\\D. Repertorio\"\n",
    "files = [ele for ele in os.listdir(folder) if ele not in {'ok_tabs','Work_in_progress', 'desktop.ini'}]\n",
    "song = random.choice(files)\n",
    "print(\"Today's song:\", song.split(\".\", 1)[0])\n",
    "\n",
    "# Opens backing track with transcribe\n",
    "os.startfile(folder + \"\\\\\" + song)\n",
    "\n",
    "# Opens tab with Guitar Pro\n",
    "try:\n",
    "    os.startfile(folder + \"\\\\ok_tabs\\\\\" + song.split(\".\", 1)[0] + \".gp5\")\n",
    "except FileNotFoundError:\n",
    "    try:\n",
    "        os.startfile(folder + \"\\\\ok_tabs\\\\\" + song.split(\".\", 1)[0] + \".gp4\")\n",
    "    except FileNotFoundError:\n",
    "        try:\n",
    "            os.startfile(folder + \"\\\\ok_tabs\\\\\" + song.split(\".\", 1)[0] + \".gp3\")\n",
    "        except FileNotFoundError:\n",
    "            os.startfile(folder + \"\\\\ok_tabs\\\\\" + song.split(\".\", 1)[0] + \".gtp\")\n",
    "            pass"
   ]
  },
  {
   "cell_type": "code",
   "execution_count": 12,
   "metadata": {},
   "outputs": [
    {
     "name": "stdout",
     "output_type": "stream",
     "text": [
      "Improvisation (7 min.)\n",
      "https://www.youtube.com/results?search_query=backing+track+fusion+Bb+major\n"
     ]
    },
    {
     "data": {
      "application/javascript": [
       "window.open(\"https://www.youtube.com/results?search_query=backing+track+fusion+Bb+major\");"
      ],
      "text/plain": [
       "<IPython.core.display.Javascript object>"
      ]
     },
     "metadata": {},
     "output_type": "display_data"
    }
   ],
   "source": [
    "print(\"Improvisation (7 min.)\")\n",
    "YTstring = \"https://www.youtube.com/results?search_query=\"\n",
    "set_style = [\"rock\",\"blues\",\"funk\",\"jazz\",\"fusion\"]\n",
    "set_note = [\"A\", \"Bb\", \"B\", \"C\", \"Db\", \"D\", \"Eb\", \"E\", \"F\", \"Gb\", \"G\", \"Ab\" ]\n",
    "set_key = [\"major\", \"minor\"]\n",
    "str1 = \"\"\n",
    "YTlookup = [str1.join(random.sample(set_style,1)),str1.join(random.sample(set_note,1)),str1.join(random.sample(set_key,1))]\n",
    "str2 = \"+\"\n",
    "link = YTstring + \"backing+track+\" + str2.join(YTlookup)\n",
    "print(link)\n",
    "window_open(link)"
   ]
  },
  {
   "cell_type": "code",
   "execution_count": null,
   "metadata": {},
   "outputs": [],
   "source": []
  }
 ],
 "metadata": {
  "kernelspec": {
   "display_name": "Python 3",
   "language": "python",
   "name": "python3"
  },
  "language_info": {
   "codemirror_mode": {
    "name": "ipython",
    "version": 3
   },
   "file_extension": ".py",
   "mimetype": "text/x-python",
   "name": "python",
   "nbconvert_exporter": "python",
   "pygments_lexer": "ipython3",
   "version": "3.7.6"
  }
 },
 "nbformat": 4,
 "nbformat_minor": 4
}
